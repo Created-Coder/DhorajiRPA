{
 "cells": [
  {
   "cell_type": "markdown",
   "metadata": {},
   "source": [
    "# Data Files"
   ]
  },
  {
   "cell_type": "markdown",
   "metadata": {},
   "source": [
    "Writing Data"
   ]
  },
  {
   "cell_type": "code",
   "execution_count": 40,
   "metadata": {},
   "outputs": [],
   "source": [
    "with open(\"practice.txt\", \"w\") as f:\n",
    "    f.write(\"Hello World\")"
   ]
  },
  {
   "cell_type": "code",
   "execution_count": 43,
   "metadata": {},
   "outputs": [
    {
     "data": {
      "text/plain": [
       "13"
      ]
     },
     "execution_count": 43,
     "metadata": {},
     "output_type": "execute_result"
    }
   ],
   "source": [
    "f = open(\"practice.txt\", \"a\") \n",
    "f.write(\"Hello World 2\")"
   ]
  },
  {
   "cell_type": "markdown",
   "metadata": {},
   "source": [
    "Appending Data"
   ]
  },
  {
   "cell_type": "code",
   "execution_count": 44,
   "metadata": {},
   "outputs": [],
   "source": [
    "with open(\"appending.txt\", \"a\") as f:\n",
    "    f.write(\"Hello World 2\\n\")\n",
    "    f.write(\"Hello World 2 \\n\")\n",
    "    f.write(\"Hello World 3 \\n\")\n",
    "    f.write(\"Hello World 4 \\n\")\n",
    "    f.write(\"Hello World 2\\n\")\n",
    "    f.write(\"Hello World 2 \\n\")\n",
    "    f.write(\"Hello World 3 \\n\")\n",
    "    f.write(\"Hello World 4 \\n\")\n",
    "    f.write(\"Hello World 2\\n\")\n",
    "    f.write(\"Hello World 2 \\n\")\n",
    "    f.write(\"Hello World 3 \\n\")\n",
    "    f.write(\"Hello World 4 \\n\")"
   ]
  },
  {
   "cell_type": "markdown",
   "metadata": {},
   "source": [
    "Reading Data"
   ]
  },
  {
   "cell_type": "code",
   "execution_count": 65,
   "metadata": {},
   "outputs": [],
   "source": [
    "with open(\"C:/Users/STUDENTS/Desktop/appending.txt\", \"r\") as f:\n",
    "    data = f.read()"
   ]
  },
  {
   "cell_type": "code",
   "execution_count": 66,
   "metadata": {},
   "outputs": [
    {
     "data": {
      "text/plain": [
       "str"
      ]
     },
     "execution_count": 66,
     "metadata": {},
     "output_type": "execute_result"
    }
   ],
   "source": [
    "type(data)"
   ]
  },
  {
   "cell_type": "code",
   "execution_count": 67,
   "metadata": {},
   "outputs": [
    {
     "data": {
      "text/plain": [
       "'Hello World \\nHello World 2\\nHello World 2\\nHello World 2 \\nHello World 3 \\nHello World 4 \\nHello World 2\\nHello World 2 \\nHello World 3 \\nHello World 4 \\nHello World 2\\nHello World 2 \\nHello World 3 \\nHello World 4 \\n'"
      ]
     },
     "execution_count": 67,
     "metadata": {},
     "output_type": "execute_result"
    }
   ],
   "source": [
    "data"
   ]
  },
  {
   "cell_type": "code",
   "execution_count": 68,
   "metadata": {},
   "outputs": [
    {
     "data": {
      "text/plain": [
       "6"
      ]
     },
     "execution_count": 68,
     "metadata": {},
     "output_type": "execute_result"
    }
   ],
   "source": []
  },
  {
   "cell_type": "code",
   "execution_count": 69,
   "metadata": {},
   "outputs": [],
   "source": [
    "data = data.split('\\n')"
   ]
  },
  {
   "cell_type": "code",
   "execution_count": 70,
   "metadata": {},
   "outputs": [
    {
     "data": {
      "text/plain": [
       "['Hello World ',\n",
       " 'Hello World 2',\n",
       " 'Hello World 2',\n",
       " 'Hello World 2 ',\n",
       " 'Hello World 3 ',\n",
       " 'Hello World 4 ',\n",
       " 'Hello World 2',\n",
       " 'Hello World 2 ',\n",
       " 'Hello World 3 ',\n",
       " 'Hello World 4 ',\n",
       " 'Hello World 2',\n",
       " 'Hello World 2 ',\n",
       " 'Hello World 3 ',\n",
       " 'Hello World 4 ',\n",
       " '']"
      ]
     },
     "execution_count": 70,
     "metadata": {},
     "output_type": "execute_result"
    }
   ],
   "source": [
    "data"
   ]
  },
  {
   "cell_type": "code",
   "execution_count": 92,
   "metadata": {},
   "outputs": [
    {
     "name": "stdout",
     "output_type": "stream",
     "text": [
      "['Hello', 'My', 'name', 'is', 'Salman']\n",
      "Hello My name is\n"
     ]
    }
   ],
   "source": [
    "with open(\"appending.txt\", \"r\") as f:\n",
    "    data = f.read()\n",
    "    data = data.split()\n",
    "    print(data)\n",
    "    index = data.index('Salman')\n",
    "    del data[index]\n",
    "    listToStr = ' '.join(map(str, data))\n",
    "    print(listToStr)\n",
    "    \n",
    "    \n",
    "    \n",
    "    with open(\"appending.txt\", \"w\") as f:\n",
    "        f.write(listToStr)\n",
    "        \n",
    "\n",
    "    "
   ]
  },
  {
   "cell_type": "code",
   "execution_count": 102,
   "metadata": {},
   "outputs": [],
   "source": [
    "with open(\"appending.txt\", \"r\") as f:\n",
    "    data = f.read()\n",
    "    data = data.replace(\"is\", \"\")\n",
    "    \n",
    "    \n",
    "    with open(\"appending.txt\", \"w\") as f:\n",
    "        f.write(data)"
   ]
  },
  {
   "cell_type": "code",
   "execution_count": null,
   "metadata": {},
   "outputs": [],
   "source": []
  }
 ],
 "metadata": {
  "kernelspec": {
   "display_name": "Python 3",
   "language": "python",
   "name": "python3"
  },
  "language_info": {
   "codemirror_mode": {
    "name": "ipython",
    "version": 3
   },
   "file_extension": ".py",
   "mimetype": "text/x-python",
   "name": "python",
   "nbconvert_exporter": "python",
   "pygments_lexer": "ipython3",
   "version": "3.8.5"
  }
 },
 "nbformat": 4,
 "nbformat_minor": 4
}
