{
 "cells": [
  {
   "cell_type": "markdown",
   "metadata": {},
   "source": [
    "# Function within Functions"
   ]
  },
  {
   "cell_type": "code",
   "execution_count": null,
   "metadata": {},
   "outputs": [],
   "source": [
    "def calc(num1, num2):\n",
    "    def add(num1, num2):\n",
    "        res = num1 + num2\n",
    "        print(res)\n",
    "    \n",
    "    add(num1, num2)\n",
    "        \n",
    "    def sub(num1, num2):\n",
    "        res = num1 - num2\n",
    "        print(res)\n",
    "    \n",
    "    sub(num1, num2)\n",
    "        \n",
    "    def mult(num1, num2):\n",
    "        res = num1 * num2\n",
    "        print(res)\n",
    "        \n",
    "    mult(num1, num2)"
   ]
  },
  {
   "cell_type": "code",
   "execution_count": null,
   "metadata": {},
   "outputs": [],
   "source": [
    "print(calc(2,4))"
   ]
  },
  {
   "cell_type": "code",
   "execution_count": null,
   "metadata": {},
   "outputs": [],
   "source": [
    "def add(num1, num2):\n",
    "    res = num1 + num2\n",
    "    print(res)"
   ]
  },
  {
   "cell_type": "code",
   "execution_count": null,
   "metadata": {},
   "outputs": [],
   "source": [
    "def sub(num1, num2):\n",
    "    res = num1 - num2\n",
    "    print(res)"
   ]
  },
  {
   "cell_type": "code",
   "execution_count": null,
   "metadata": {},
   "outputs": [],
   "source": [
    "def calc(num1, num2):\n",
    "    add(num1, num2)\n",
    "    \n",
    "    sub(num1, num2)"
   ]
  },
  {
   "cell_type": "code",
   "execution_count": null,
   "metadata": {},
   "outputs": [],
   "source": [
    "calc(2,4)"
   ]
  },
  {
   "cell_type": "markdown",
   "metadata": {},
   "source": [
    "# While Loop"
   ]
  },
  {
   "cell_type": "code",
   "execution_count": null,
   "metadata": {},
   "outputs": [],
   "source": [
    "userInput = ''\n",
    "nums = []\n",
    "\n",
    "while userInput != \"q\":\n",
    "    num = input(\"Enter Number or press q to quit\")\n",
    "    \n",
    "    if num == \"q\":\n",
    "        break\n",
    "        \n",
    "    else:\n",
    "        nums.append(int(num))\n",
    "        \n",
    "    print(nums)"
   ]
  },
  {
   "cell_type": "code",
   "execution_count": null,
   "metadata": {},
   "outputs": [],
   "source": [
    "num = 0\n",
    "while num < 10:\n",
    "    num = num + 1\n",
    "    print(num)\n",
    "    \n",
    "#     userInput = input(\"press q to quit\") "
   ]
  },
  {
   "cell_type": "markdown",
   "metadata": {},
   "source": [
    "# Assignment"
   ]
  },
  {
   "cell_type": "code",
   "execution_count": null,
   "metadata": {},
   "outputs": [],
   "source": [
    "questions = [\n",
    "    {\n",
    "        \"ques\" : \"What is the color of sky?\",\n",
    "        \"option1\" : \"Blue\",\n",
    "        \"option2\" : \"Red\",\n",
    "        \"option3\" : \"Green\",\n",
    "        \"option4\" : \"Black\",\n",
    "        \"ans\" : \"Blue\"\n",
    "    },\n",
    "    {\n",
    "        \"ques\"  : \"What comes after 5?\",\n",
    "        \"option1\" : \"7\",\n",
    "        \"option2\" : \"9\",\n",
    "        \"option3\" : \"11\",\n",
    "        \"option4\" : \"6\",\n",
    "        \"ans\" : \"6\"\n",
    "    },\n",
    "    {\n",
    "        \"ques\" : \"If you divide 8 into 4 parts?\",\n",
    "        \"option1\" : \"6\",\n",
    "        \"option2\" : \"5\",\n",
    "        \"option3\" : \"2\",\n",
    "        \"option4\" : \"9\",\n",
    "        \"ans\" : \"2\"\n",
    "    }\n",
    "    \n",
    "]"
   ]
  },
  {
   "cell_type": "code",
   "execution_count": null,
   "metadata": {},
   "outputs": [],
   "source": [
    "for i in questions:\n",
    "    ques = i['ques']\n",
    "    opt1 = i['option1']\n",
    "    opt2 = i['option2']\n",
    "    opt3 = i[\"option3\"]\n",
    "    opt4 = i[\"option4\"]\n",
    "    ans = i[\"ans\"]\n",
    "    \n",
    "    print(ques)\n",
    "    print(opt1)\n",
    "    print(opt2)\n",
    "    print(opt3)\n",
    "    print(opt4)\n",
    "    \n",
    "    userAns = input(\"Enter Your Answer : \")\n",
    "    \n",
    "    if userAns == ans:\n",
    "        print(\"Correct Ans\")\n",
    "        \n",
    "    else:\n",
    "        print(\"Wrong Answer\")\n",
    "        break\n",
    "    \n",
    "    \n",
    "    \n",
    "    "
   ]
  },
  {
   "cell_type": "code",
   "execution_count": 2,
   "metadata": {},
   "outputs": [],
   "source": [
    "flag = True"
   ]
  },
  {
   "cell_type": "code",
   "execution_count": 3,
   "metadata": {},
   "outputs": [
    {
     "name": "stdout",
     "output_type": "stream",
     "text": [
      "1\n",
      "2\n",
      "3\n",
      "4\n",
      "5\n",
      "6\n",
      "7\n",
      "8\n",
      "9\n",
      "10\n",
      "11\n",
      "12\n",
      "13\n",
      "14\n",
      "15\n",
      "16\n",
      "17\n",
      "18\n",
      "19\n",
      "20\n"
     ]
    }
   ],
   "source": [
    "num = 0\n",
    "while flag:\n",
    "    num = num + 1\n",
    "    print(num)\n",
    "    \n",
    "    if num == 20:\n",
    "        flag = False"
   ]
  },
  {
   "cell_type": "markdown",
   "metadata": {},
   "source": [
    "# Classes"
   ]
  },
  {
   "cell_type": "code",
   "execution_count": 2,
   "metadata": {},
   "outputs": [],
   "source": [
    "class Student():\n",
    "    def __init__(self, firstName, lastName, age):\n",
    "        self.firstName = firstName\n",
    "        self.lastName = lastName\n",
    "        self.age = age\n",
    "        \n",
    "        \n",
    "    def if_minor(self):\n",
    "        if self.age < str(21):\n",
    "            print(\"You are under age\")\n",
    "        "
   ]
  },
  {
   "cell_type": "code",
   "execution_count": 29,
   "metadata": {},
   "outputs": [],
   "source": [
    "std1 = Student(\"Salman\", \"Zakir\", \"20\")"
   ]
  },
  {
   "cell_type": "code",
   "execution_count": 30,
   "metadata": {},
   "outputs": [
    {
     "name": "stdout",
     "output_type": "stream",
     "text": [
      "You are under age\n"
     ]
    }
   ],
   "source": [
    "std1.if_minor()"
   ]
  },
  {
   "cell_type": "markdown",
   "metadata": {},
   "source": [
    "# Class Assignment"
   ]
  },
  {
   "cell_type": "code",
   "execution_count": 35,
   "metadata": {},
   "outputs": [],
   "source": [
    "questions = [\n",
    "    {\n",
    "        \"ques\" : \"What is the color of sky?\",\n",
    "        \"option1\" : \"Blue\",\n",
    "        \"option2\" : \"Red\",\n",
    "        \"option3\" : \"Green\",\n",
    "        \"option4\" : \"Black\",\n",
    "        \"ans\" : \"Blue\"\n",
    "    },\n",
    "    {\n",
    "        \"ques\"  : \"What comes after 5?\",\n",
    "        \"option1\" : \"7\",\n",
    "        \"option2\" : \"9\",\n",
    "        \"option3\" : \"11\",\n",
    "        \"option4\" : \"6\",\n",
    "        \"ans\" : \"6\"\n",
    "    },\n",
    "    {\n",
    "        \"ques\" : \"If you divide 8 into 4 parts?\",\n",
    "        \"option1\" : \"6\",\n",
    "        \"option2\" : \"5\",\n",
    "        \"option3\" : \"2\",\n",
    "        \"option4\" : \"9\",\n",
    "        \"ans\" : \"2\"\n",
    "    }\n",
    "    \n",
    "]"
   ]
  },
  {
   "cell_type": "code",
   "execution_count": 46,
   "metadata": {},
   "outputs": [
    {
     "name": "stdout",
     "output_type": "stream",
     "text": [
      "What is the color of sky?\n",
      "Blue\n",
      "Red\n",
      "Green\n",
      "Black\n",
      "Enter Your Answer : Blue\n",
      "Correct Ans\n",
      "What comes after 5?\n",
      "7\n",
      "9\n",
      "11\n",
      "6\n",
      "Enter Your Answer : 11\n",
      "Wrong Answer\n"
     ]
    }
   ],
   "source": [
    "length = len(questions)\n",
    "i = 0\n",
    "\n",
    "while i < length:\n",
    "    ques = questions[i]['ques']\n",
    "    opt1 = questions[i]['option1']\n",
    "    opt2 = questions[i]['option2']\n",
    "    opt3 = questions[i][\"option3\"]\n",
    "    opt4 = questions[i][\"option4\"]\n",
    "    ans = questions[i][\"ans\"]\n",
    "    \n",
    "    print(ques)\n",
    "    print(opt1)\n",
    "    print(opt2)\n",
    "    print(opt3)\n",
    "    print(opt4)\n",
    "    \n",
    "    userAns = input(\"Enter Your Answer : \")\n",
    "    \n",
    "    if userAns == ans:\n",
    "        print(\"Correct Ans\")\n",
    "        \n",
    "    else:\n",
    "        print(\"Wrong Answer\")\n",
    "        break\n",
    "\n",
    "    \n",
    "    \n",
    "    i = i + 1\n",
    "    \n",
    "    "
   ]
  },
  {
   "cell_type": "code",
   "execution_count": 15,
   "metadata": {},
   "outputs": [
    {
     "name": "stdout",
     "output_type": "stream",
     "text": [
      "Enter First NameSalman\n",
      "Enter last NameZakir\n",
      "Enter age Name12\n",
      "Enter q to Quitq\n"
     ]
    },
    {
     "ename": "KeyboardInterrupt",
     "evalue": "Interrupted by user",
     "output_type": "error",
     "traceback": [
      "\u001b[1;31m---------------------------------------------------------------------------\u001b[0m",
      "\u001b[1;31mKeyboardInterrupt\u001b[0m                         Traceback (most recent call last)",
      "\u001b[1;32m<ipython-input-15-922197e0e0bc>\u001b[0m in \u001b[0;36m<module>\u001b[1;34m\u001b[0m\n\u001b[0;32m      1\u001b[0m \u001b[1;32mfor\u001b[0m \u001b[0mi\u001b[0m \u001b[1;32min\u001b[0m \u001b[0mrange\u001b[0m\u001b[1;33m(\u001b[0m\u001b[1;36m1\u001b[0m\u001b[1;33m,\u001b[0m \u001b[1;36m100\u001b[0m\u001b[1;33m)\u001b[0m\u001b[1;33m:\u001b[0m\u001b[1;33m\u001b[0m\u001b[1;33m\u001b[0m\u001b[0m\n\u001b[1;32m----> 2\u001b[1;33m     \u001b[0mfirstName\u001b[0m \u001b[1;33m=\u001b[0m \u001b[0mstr\u001b[0m\u001b[1;33m(\u001b[0m\u001b[0minput\u001b[0m\u001b[1;33m(\u001b[0m\u001b[1;34m\"Enter First Name\"\u001b[0m\u001b[1;33m)\u001b[0m\u001b[1;33m)\u001b[0m\u001b[1;33m\u001b[0m\u001b[1;33m\u001b[0m\u001b[0m\n\u001b[0m\u001b[0;32m      3\u001b[0m     \u001b[0mlastName\u001b[0m \u001b[1;33m=\u001b[0m \u001b[0mstr\u001b[0m\u001b[1;33m(\u001b[0m\u001b[0minput\u001b[0m\u001b[1;33m(\u001b[0m\u001b[1;34m\"Enter last Name\"\u001b[0m\u001b[1;33m)\u001b[0m\u001b[1;33m)\u001b[0m\u001b[1;33m\u001b[0m\u001b[1;33m\u001b[0m\u001b[0m\n\u001b[0;32m      4\u001b[0m     \u001b[0mage\u001b[0m \u001b[1;33m=\u001b[0m \u001b[0mstr\u001b[0m\u001b[1;33m(\u001b[0m\u001b[0minput\u001b[0m\u001b[1;33m(\u001b[0m\u001b[1;34m\"Enter age Name\"\u001b[0m\u001b[1;33m)\u001b[0m\u001b[1;33m)\u001b[0m\u001b[1;33m\u001b[0m\u001b[1;33m\u001b[0m\u001b[0m\n\u001b[0;32m      5\u001b[0m     \u001b[0mglobals\u001b[0m\u001b[1;33m(\u001b[0m\u001b[1;33m)\u001b[0m\u001b[1;33m[\u001b[0m\u001b[0mfirstName\u001b[0m\u001b[1;33m]\u001b[0m \u001b[1;33m=\u001b[0m \u001b[0mStudent\u001b[0m\u001b[1;33m(\u001b[0m\u001b[0mfirstName\u001b[0m\u001b[1;33m,\u001b[0m \u001b[0mlastName\u001b[0m\u001b[1;33m,\u001b[0m \u001b[0mage\u001b[0m\u001b[1;33m)\u001b[0m\u001b[1;33m\u001b[0m\u001b[1;33m\u001b[0m\u001b[0m\n",
      "\u001b[1;32mC:\\ProgramData\\Anaconda3\\lib\\site-packages\\ipykernel\\kernelbase.py\u001b[0m in \u001b[0;36mraw_input\u001b[1;34m(self, prompt)\u001b[0m\n\u001b[0;32m    858\u001b[0m                 \u001b[1;34m\"raw_input was called, but this frontend does not support input requests.\"\u001b[0m\u001b[1;33m\u001b[0m\u001b[1;33m\u001b[0m\u001b[0m\n\u001b[0;32m    859\u001b[0m             )\n\u001b[1;32m--> 860\u001b[1;33m         return self._input_request(str(prompt),\n\u001b[0m\u001b[0;32m    861\u001b[0m             \u001b[0mself\u001b[0m\u001b[1;33m.\u001b[0m\u001b[0m_parent_ident\u001b[0m\u001b[1;33m,\u001b[0m\u001b[1;33m\u001b[0m\u001b[1;33m\u001b[0m\u001b[0m\n\u001b[0;32m    862\u001b[0m             \u001b[0mself\u001b[0m\u001b[1;33m.\u001b[0m\u001b[0m_parent_header\u001b[0m\u001b[1;33m,\u001b[0m\u001b[1;33m\u001b[0m\u001b[1;33m\u001b[0m\u001b[0m\n",
      "\u001b[1;32mC:\\ProgramData\\Anaconda3\\lib\\site-packages\\ipykernel\\kernelbase.py\u001b[0m in \u001b[0;36m_input_request\u001b[1;34m(self, prompt, ident, parent, password)\u001b[0m\n\u001b[0;32m    902\u001b[0m             \u001b[1;32mexcept\u001b[0m \u001b[0mKeyboardInterrupt\u001b[0m\u001b[1;33m:\u001b[0m\u001b[1;33m\u001b[0m\u001b[1;33m\u001b[0m\u001b[0m\n\u001b[0;32m    903\u001b[0m                 \u001b[1;31m# re-raise KeyboardInterrupt, to truncate traceback\u001b[0m\u001b[1;33m\u001b[0m\u001b[1;33m\u001b[0m\u001b[1;33m\u001b[0m\u001b[0m\n\u001b[1;32m--> 904\u001b[1;33m                 \u001b[1;32mraise\u001b[0m \u001b[0mKeyboardInterrupt\u001b[0m\u001b[1;33m(\u001b[0m\u001b[1;34m\"Interrupted by user\"\u001b[0m\u001b[1;33m)\u001b[0m \u001b[1;32mfrom\u001b[0m \u001b[1;32mNone\u001b[0m\u001b[1;33m\u001b[0m\u001b[1;33m\u001b[0m\u001b[0m\n\u001b[0m\u001b[0;32m    905\u001b[0m             \u001b[1;32mexcept\u001b[0m \u001b[0mException\u001b[0m \u001b[1;32mas\u001b[0m \u001b[0me\u001b[0m\u001b[1;33m:\u001b[0m\u001b[1;33m\u001b[0m\u001b[1;33m\u001b[0m\u001b[0m\n\u001b[0;32m    906\u001b[0m                 \u001b[0mself\u001b[0m\u001b[1;33m.\u001b[0m\u001b[0mlog\u001b[0m\u001b[1;33m.\u001b[0m\u001b[0mwarning\u001b[0m\u001b[1;33m(\u001b[0m\u001b[1;34m\"Invalid Message:\"\u001b[0m\u001b[1;33m,\u001b[0m \u001b[0mexc_info\u001b[0m\u001b[1;33m=\u001b[0m\u001b[1;32mTrue\u001b[0m\u001b[1;33m)\u001b[0m\u001b[1;33m\u001b[0m\u001b[1;33m\u001b[0m\u001b[0m\n",
      "\u001b[1;31mKeyboardInterrupt\u001b[0m: Interrupted by user"
     ]
    }
   ],
   "source": [
    "for i in range(1, 100):\n",
    "    firstName = str(input(\"Enter First Name\"))\n",
    "    lastName = str(input(\"Enter last Name\"))\n",
    "    age = str(input(\"Enter age Name\"))\n",
    "    globals()[firstName] = Student(firstName, lastName, age)\n",
    "    \n",
    "    userInput = str(input(\"Enter q to Quit\"))\n",
    "    "
   ]
  },
  {
   "cell_type": "code",
   "execution_count": 17,
   "metadata": {},
   "outputs": [
    {
     "data": {
      "text/plain": [
       "'12'"
      ]
     },
     "execution_count": 17,
     "metadata": {},
     "output_type": "execute_result"
    }
   ],
   "source": [
    "Salman.age"
   ]
  }
 ],
 "metadata": {
  "kernelspec": {
   "display_name": "Python 3",
   "language": "python",
   "name": "python3"
  }
 },
 "nbformat": 4,
 "nbformat_minor": 4
}
