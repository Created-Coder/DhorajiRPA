{
 "cells": [
  {
   "cell_type": "markdown",
   "metadata": {},
   "source": [
    "# Conditional Statements"
   ]
  },
  {
   "cell_type": "code",
   "execution_count": 16,
   "metadata": {},
   "outputs": [],
   "source": [
    "myName = 'abc'"
   ]
  },
  {
   "cell_type": "code",
   "execution_count": 17,
   "metadata": {},
   "outputs": [
    {
     "name": "stdout",
     "output_type": "stream",
     "text": [
      "Not found your name\n"
     ]
    }
   ],
   "source": [
    "if myName == 'salman':\n",
    "    print('If run')\n",
    "    print('Got Your Name')\n",
    "\n",
    "elif myName == 'hammad':\n",
    "    print(\"Elif Run\")\n",
    "    print('Got your Name')\n",
    "    \n",
    "else:\n",
    "    print(\"Not found your name\")"
   ]
  },
  {
   "cell_type": "code",
   "execution_count": 9,
   "metadata": {},
   "outputs": [],
   "source": [
    "if 2 <= 1:\n",
    "    print(\"Yes, it is correct\")"
   ]
  },
  {
   "cell_type": "markdown",
   "metadata": {},
   "source": [
    "AND OR"
   ]
  },
  {
   "cell_type": "code",
   "execution_count": 23,
   "metadata": {},
   "outputs": [
    {
     "name": "stdout",
     "output_type": "stream",
     "text": [
      "Your are not eligible\n"
     ]
    }
   ],
   "source": [
    "age = 18\n",
    "gender = 'female'\n",
    "\n",
    "if age >= 18 and gender == 'male':\n",
    "    print(\"You are welcome\")\n",
    "    \n",
    "else:\n",
    "    print(\"Your are not eligible\")"
   ]
  },
  {
   "cell_type": "markdown",
   "metadata": {},
   "source": [
    "INPUT"
   ]
  },
  {
   "cell_type": "code",
   "execution_count": 39,
   "metadata": {},
   "outputs": [
    {
     "name": "stdout",
     "output_type": "stream",
     "text": [
      "Enter Your Age17\n",
      "Enter your Gendermale\n",
      "Your are not eligible\n"
     ]
    }
   ],
   "source": [
    "age = input('Enter Your Age')\n",
    "age = int(age)\n",
    "\n",
    "\n",
    "\n",
    "if age >= 18 and gender == 'male':\n",
    "    print(\"You are welcome\")\n",
    "    \n",
    "else:\n",
    "    print(\"Your are not eligible\")"
   ]
  },
  {
   "cell_type": "code",
   "execution_count": 48,
   "metadata": {},
   "outputs": [
    {
     "name": "stdout",
     "output_type": "stream",
     "text": [
      "Enter Your Age17\n",
      "Enter your Gendermale\n",
      "Your age is less\n"
     ]
    }
   ],
   "source": [
    "age = input('Enter Your Age')\n",
    "age = int(age)\n",
    "gender = input(\"Enter your Gender\")\n",
    "\n",
    "\n",
    "if gender == 'male':\n",
    "    if age >= 18:\n",
    "        print('Your are welcome')\n",
    "        \n",
    "    else:\n",
    "        print(\"Your age is less\")\n",
    "        \n",
    "        \n",
    "else:\n",
    "    print('You are not welcome')"
   ]
  },
  {
   "cell_type": "markdown",
   "metadata": {},
   "source": [
    "# Lists"
   ]
  },
  {
   "cell_type": "code",
   "execution_count": 59,
   "metadata": {},
   "outputs": [],
   "source": [
    "cityNames = ['karachi', 'hyderabad', 2 , 'quetta', 'islamabad', 2.6]"
   ]
  },
  {
   "cell_type": "code",
   "execution_count": 67,
   "metadata": {},
   "outputs": [
    {
     "data": {
      "text/plain": [
       "'islamabad'"
      ]
     },
     "execution_count": 67,
     "metadata": {},
     "output_type": "execute_result"
    }
   ],
   "source": [
    "cityNames[4]"
   ]
  },
  {
   "cell_type": "code",
   "execution_count": 77,
   "metadata": {},
   "outputs": [
    {
     "data": {
      "text/plain": [
       "['quetta']"
      ]
     },
     "execution_count": 77,
     "metadata": {},
     "output_type": "execute_result"
    }
   ],
   "source": [
    "cityNames[3:-2]"
   ]
  },
  {
   "cell_type": "code",
   "execution_count": null,
   "metadata": {},
   "outputs": [],
   "source": []
  }
 ],
 "metadata": {
  "kernelspec": {
   "display_name": "Python 3",
   "language": "python",
   "name": "python3"
  },
  "language_info": {
   "codemirror_mode": {
    "name": "ipython",
    "version": 3
   },
   "file_extension": ".py",
   "mimetype": "text/x-python",
   "name": "python",
   "nbconvert_exporter": "python",
   "pygments_lexer": "ipython3",
   "version": "3.8.5"
  }
 },
 "nbformat": 4,
 "nbformat_minor": 4
}
