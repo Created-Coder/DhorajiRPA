{
 "cells": [
  {
   "cell_type": "code",
   "execution_count": 1,
   "metadata": {},
   "outputs": [],
   "source": [
    "student = {\n",
    "    \"first name\" : \"ahmed\",\n",
    "    \"last name\" : \"ali\",\n",
    "    \"age\" : 25,\n",
    "    \"designation\" : \"student\",\n",
    "    \"institue\" : \"Dhoraji\"\n",
    "}"
   ]
  },
  {
   "cell_type": "code",
   "execution_count": 3,
   "metadata": {},
   "outputs": [
    {
     "data": {
      "text/plain": [
       "25"
      ]
     },
     "execution_count": 3,
     "metadata": {},
     "output_type": "execute_result"
    }
   ],
   "source": [
    "student[\"first name\"]"
   ]
  },
  {
   "cell_type": "code",
   "execution_count": 4,
   "metadata": {},
   "outputs": [
    {
     "data": {
      "text/plain": [
       "'ali'"
      ]
     },
     "execution_count": 4,
     "metadata": {},
     "output_type": "execute_result"
    }
   ],
   "source": [
    "student[\"last name\"]"
   ]
  },
  {
   "cell_type": "code",
   "execution_count": 5,
   "metadata": {},
   "outputs": [
    {
     "data": {
      "text/plain": [
       "25"
      ]
     },
     "execution_count": 5,
     "metadata": {},
     "output_type": "execute_result"
    }
   ],
   "source": [
    "student[\"age\"]"
   ]
  },
  {
   "cell_type": "code",
   "execution_count": 7,
   "metadata": {},
   "outputs": [],
   "source": [
    "# Looping through values"
   ]
  },
  {
   "cell_type": "code",
   "execution_count": 6,
   "metadata": {},
   "outputs": [
    {
     "name": "stdout",
     "output_type": "stream",
     "text": [
      "ahmed\n",
      "ali\n",
      "25\n",
      "student\n",
      "Dhoraji\n"
     ]
    }
   ],
   "source": [
    "for i in student.values():\n",
    "    print(i)\n",
    "    "
   ]
  },
  {
   "cell_type": "code",
   "execution_count": 8,
   "metadata": {},
   "outputs": [],
   "source": [
    "# Looping through keys"
   ]
  },
  {
   "cell_type": "code",
   "execution_count": 9,
   "metadata": {},
   "outputs": [
    {
     "name": "stdout",
     "output_type": "stream",
     "text": [
      "first name\n",
      "last name\n",
      "age\n",
      "designation\n",
      "institue\n"
     ]
    }
   ],
   "source": [
    "for i in student.keys():\n",
    "    print(i)"
   ]
  },
  {
   "cell_type": "code",
   "execution_count": 11,
   "metadata": {},
   "outputs": [],
   "source": [
    "# Looping through items"
   ]
  },
  {
   "cell_type": "code",
   "execution_count": 17,
   "metadata": {},
   "outputs": [
    {
     "name": "stdout",
     "output_type": "stream",
     "text": [
      "first name: ahmed\n",
      "last name: ali\n",
      "age: 25\n",
      "designation: student\n",
      "institue: Dhoraji\n"
     ]
    }
   ],
   "source": [
    "for key, value in student.items():\n",
    "    print( str(key) + \": \" + str(value))\n",
    "    \n",
    "    "
   ]
  },
  {
   "cell_type": "markdown",
   "metadata": {},
   "source": [
    "# list of dictionaries "
   ]
  },
  {
   "cell_type": "code",
   "execution_count": 36,
   "metadata": {},
   "outputs": [],
   "source": [
    "database = [\n",
    "    {   \n",
    "        \"userid\" : 1, \n",
    "        \"first name\" : \"salman\",\n",
    "        \"last name\" : \"abdul zakir\"\n",
    "    },\n",
    "    \n",
    "    {\n",
    "        \"first name\" : \"ahmed\",\n",
    "        \"last name\" : \"ali\",\n",
    "        \"userid\" : 500,\n",
    "        \n",
    "    },\n",
    "    {\n",
    "        \"first name\" : \"ovais\",\n",
    "        \"last name\" : \"jahanzaib\",\n",
    "        \"userid\" : 3,\n",
    "    }\n",
    "]"
   ]
  },
  {
   "cell_type": "code",
   "execution_count": 37,
   "metadata": {},
   "outputs": [
    {
     "name": "stdout",
     "output_type": "stream",
     "text": [
      "Enter UID to get information 500\n"
     ]
    }
   ],
   "source": [
    "uid = int(input(\"Enter UID to get information \"))"
   ]
  },
  {
   "cell_type": "code",
   "execution_count": 38,
   "metadata": {},
   "outputs": [
    {
     "name": "stdout",
     "output_type": "stream",
     "text": [
      "{'first name': 'ahmed', 'last name': 'ali', 'userid': 500}\n"
     ]
    }
   ],
   "source": [
    "for single_dic in database:\n",
    "    if single_dic[\"userid\"] == uid:\n",
    "        print(single_dic)"
   ]
  },
  {
   "cell_type": "code",
   "execution_count": 40,
   "metadata": {},
   "outputs": [],
   "source": [
    "# appending data in list of dictionaries"
   ]
  },
  {
   "cell_type": "code",
   "execution_count": 41,
   "metadata": {},
   "outputs": [],
   "source": [
    "student = {\n",
    "    \"first name\" : \"ibrahim\",\n",
    "    \"last name\" : \"ameen\",\n",
    "    \"userid\" : 5,\n",
    "}"
   ]
  },
  {
   "cell_type": "code",
   "execution_count": 44,
   "metadata": {},
   "outputs": [],
   "source": [
    "database.append(student)"
   ]
  },
  {
   "cell_type": "code",
   "execution_count": 43,
   "metadata": {},
   "outputs": [
    {
     "data": {
      "text/plain": [
       "[{'userid': 1, 'first name': 'salman', 'last name': 'abdul zakir'},\n",
       " {'first name': 'ahmed', 'last name': 'ali', 'userid': 500},\n",
       " {'first name': 'ovais', 'last name': 'jahanzaib', 'userid': 3},\n",
       " {'first name': 'ibrahim', 'last name': 'ameen', 'userid': 5}]"
      ]
     },
     "execution_count": 43,
     "metadata": {},
     "output_type": "execute_result"
    }
   ],
   "source": [
    "database"
   ]
  },
  {
   "cell_type": "code",
   "execution_count": null,
   "metadata": {},
   "outputs": [],
   "source": []
  }
 ],
 "metadata": {
  "kernelspec": {
   "display_name": "Python 3",
   "language": "python",
   "name": "python3"
  },
  "language_info": {
   "codemirror_mode": {
    "name": "ipython",
    "version": 3
   },
   "file_extension": ".py",
   "mimetype": "text/x-python",
   "name": "python",
   "nbconvert_exporter": "python",
   "pygments_lexer": "ipython3",
   "version": "3.8.5"
  }
 },
 "nbformat": 4,
 "nbformat_minor": 4
}
