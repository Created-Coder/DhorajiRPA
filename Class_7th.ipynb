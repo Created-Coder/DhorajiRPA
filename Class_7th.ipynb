{
 "cells": [
  {
   "cell_type": "markdown",
   "metadata": {},
   "source": [
    "# Dictionary of Lists\n"
   ]
  },
  {
   "cell_type": "code",
   "execution_count": 4,
   "metadata": {},
   "outputs": [
    {
     "name": "stdout",
     "output_type": "stream",
     "text": [
      "Enter Sub 1math\n",
      "Enter Sub 2eng\n",
      "Enter Sub 3urdu\n"
     ]
    }
   ],
   "source": [
    "student = {\n",
    "    \"name\" : \"abc\",\n",
    "    \"institue\" : \"Dhoraji\",\n",
    "    \"age\" : 20,\n",
    "    \"subject\" : [input(\"Enter Sub 1\") , input(\"Enter Sub 2\"), input(\"Enter Sub 3\")]\n",
    "    \n",
    "}"
   ]
  },
  {
   "cell_type": "code",
   "execution_count": 7,
   "metadata": {},
   "outputs": [
    {
     "data": {
      "text/plain": [
       "'eng'"
      ]
     },
     "execution_count": 7,
     "metadata": {},
     "output_type": "execute_result"
    }
   ],
   "source": [
    "student[\"subject\"][1] "
   ]
  },
  {
   "cell_type": "markdown",
   "metadata": {},
   "source": [
    "# Dictionary of Dictionaries"
   ]
  },
  {
   "cell_type": "code",
   "execution_count": 8,
   "metadata": {},
   "outputs": [],
   "source": [
    "database = {\n",
    "    \"salman\" : {\n",
    "        \"name\" : \"salman\",\n",
    "        \"age\" : 23,\n",
    "        \"subjects\" : [\"math\" , \"phy\", \"comp\"]\n",
    "    },\n",
    "    \n",
    "    \"ovais\" : {\n",
    "        \"name\" : \"ovais\",\n",
    "        \"age\" : 23,\n",
    "        \"subjects\" : [\"math\" , \"eng\", \"urdu\"]\n",
    "    }\n",
    "}"
   ]
  },
  {
   "cell_type": "code",
   "execution_count": 10,
   "metadata": {},
   "outputs": [
    {
     "data": {
      "text/plain": [
       "{'name': 'ovais', 'age': 23, 'subjects': ['math', 'eng', 'urdu']}"
      ]
     },
     "execution_count": 10,
     "metadata": {},
     "output_type": "execute_result"
    }
   ],
   "source": [
    "database[\"ovais\"]"
   ]
  },
  {
   "cell_type": "markdown",
   "metadata": {},
   "source": [
    "# Functions "
   ]
  },
  {
   "cell_type": "code",
   "execution_count": 18,
   "metadata": {},
   "outputs": [],
   "source": [
    "def add_numbers():\n",
    "    num1 = 2\n",
    "    num2 = 4\n",
    "    total = num1 + num2\n",
    "    print(total)"
   ]
  },
  {
   "cell_type": "code",
   "execution_count": 19,
   "metadata": {},
   "outputs": [
    {
     "name": "stdout",
     "output_type": "stream",
     "text": [
      "6\n"
     ]
    }
   ],
   "source": [
    "add_numbers()"
   ]
  },
  {
   "cell_type": "markdown",
   "metadata": {},
   "source": [
    "# passing information to function"
   ]
  },
  {
   "cell_type": "code",
   "execution_count": 33,
   "metadata": {},
   "outputs": [],
   "source": [
    "def calc(firstnum, lastnum, operator):\n",
    "    if operator == \"+\":\n",
    "        total = firstnum + lastnum\n",
    "        print(total)\n",
    "    \n",
    "    elif operator == \"-\":\n",
    "        total = firstnum - lastnum\n",
    "        print(total)\n",
    "        \n",
    "    else:\n",
    "        print(\"undefined Operator\")"
   ]
  },
  {
   "cell_type": "code",
   "execution_count": 34,
   "metadata": {},
   "outputs": [
    {
     "name": "stdout",
     "output_type": "stream",
     "text": [
      "undefined Operator\n"
     ]
    }
   ],
   "source": [
    "calc(14, 160, \"*\")"
   ]
  },
  {
   "cell_type": "code",
   "execution_count": null,
   "metadata": {},
   "outputs": [],
   "source": []
  }
 ],
 "metadata": {
  "kernelspec": {
   "display_name": "Python 3",
   "language": "python",
   "name": "python3"
  },
  "language_info": {
   "codemirror_mode": {
    "name": "ipython",
    "version": 3
   },
   "file_extension": ".py",
   "mimetype": "text/x-python",
   "name": "python",
   "nbconvert_exporter": "python",
   "pygments_lexer": "ipython3",
   "version": "3.8.5"
  }
 },
 "nbformat": 4,
 "nbformat_minor": 4
}
